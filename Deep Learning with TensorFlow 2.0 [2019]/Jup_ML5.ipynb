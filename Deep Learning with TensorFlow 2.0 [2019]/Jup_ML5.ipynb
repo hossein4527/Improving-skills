{
 "cells": [
  {
   "cell_type": "markdown",
   "metadata": {},
   "source": [
    "# Create the machine learning algorithm"
   ]
  },
  {
   "cell_type": "code",
   "execution_count": 8,
   "metadata": {},
   "outputs": [],
   "source": [
    "import numpy as np\n",
    "import tensorflow as tf"
   ]
  },
  {
   "cell_type": "code",
   "execution_count": 9,
   "metadata": {},
   "outputs": [],
   "source": [
    "npz = np.load('Audio_data_train.npz')\n",
    "train_inputs , train_targets = npz['inputs'].astype(np.float), npz['targets'].astype(np.int)\n",
    "\n",
    "npz = np.load('Audio_data_validation.npz')\n",
    "validation_inputs , validation_targets = npz['inputs'].astype(np.float), npz['targets'].astype(np.int)\n",
    "\n",
    "npz = np.load('Audio_data_test.npz')\n",
    "test_inputs , test_outputs = npz['inputs'].astype(np.float)  , npz['targets'].astype(np.int)"
   ]
  },
  {
   "cell_type": "code",
   "execution_count": 24,
   "metadata": {},
   "outputs": [
    {
     "name": "stdout",
     "output_type": "stream",
     "text": [
      "Epoch 1/100\n",
      "36/36 - 0s - loss: 0.5073 - accuracy: 0.8279 - val_loss: 0.4177 - val_accuracy: 0.8702\n",
      "Epoch 2/100\n",
      "36/36 - 0s - loss: 0.3532 - accuracy: 0.8782 - val_loss: 0.3561 - val_accuracy: 0.8747\n",
      "Epoch 3/100\n",
      "36/36 - 0s - loss: 0.3115 - accuracy: 0.8840 - val_loss: 0.3373 - val_accuracy: 0.8747\n",
      "Epoch 4/100\n",
      "36/36 - 0s - loss: 0.2946 - accuracy: 0.8921 - val_loss: 0.3227 - val_accuracy: 0.8837\n",
      "Epoch 5/100\n",
      "36/36 - 0s - loss: 0.2824 - accuracy: 0.8947 - val_loss: 0.3085 - val_accuracy: 0.8837\n",
      "Epoch 6/100\n",
      "36/36 - 0s - loss: 0.2725 - accuracy: 0.8983 - val_loss: 0.2995 - val_accuracy: 0.8926\n",
      "Epoch 7/100\n",
      "36/36 - 0s - loss: 0.2663 - accuracy: 0.9019 - val_loss: 0.2895 - val_accuracy: 0.8904\n",
      "Epoch 8/100\n",
      "36/36 - 0s - loss: 0.2612 - accuracy: 0.9036 - val_loss: 0.2853 - val_accuracy: 0.8904\n",
      "Epoch 9/100\n",
      "36/36 - 0s - loss: 0.2558 - accuracy: 0.9036 - val_loss: 0.2794 - val_accuracy: 0.8881\n",
      "Epoch 10/100\n",
      "36/36 - 0s - loss: 0.2520 - accuracy: 0.9047 - val_loss: 0.2745 - val_accuracy: 0.8926\n",
      "Epoch 11/100\n",
      "36/36 - 0s - loss: 0.2475 - accuracy: 0.9070 - val_loss: 0.2756 - val_accuracy: 0.8971\n",
      "Epoch 12/100\n",
      "36/36 - 0s - loss: 0.2492 - accuracy: 0.9047 - val_loss: 0.2721 - val_accuracy: 0.8949\n",
      "Epoch 13/100\n",
      "36/36 - 0s - loss: 0.2443 - accuracy: 0.9053 - val_loss: 0.2686 - val_accuracy: 0.8881\n",
      "Epoch 14/100\n",
      "36/36 - 0s - loss: 0.2416 - accuracy: 0.9092 - val_loss: 0.2618 - val_accuracy: 0.8904\n",
      "Epoch 15/100\n",
      "36/36 - 0s - loss: 0.2400 - accuracy: 0.9098 - val_loss: 0.2623 - val_accuracy: 0.8926\n",
      "Epoch 16/100\n",
      "36/36 - 0s - loss: 0.2369 - accuracy: 0.9098 - val_loss: 0.2601 - val_accuracy: 0.8971\n",
      "Epoch 17/100\n",
      "36/36 - 0s - loss: 0.2377 - accuracy: 0.9084 - val_loss: 0.2596 - val_accuracy: 0.8904\n",
      "Epoch 18/100\n",
      "36/36 - 0s - loss: 0.2334 - accuracy: 0.9114 - val_loss: 0.2593 - val_accuracy: 0.8993\n",
      "Epoch 19/100\n",
      "36/36 - 0s - loss: 0.2349 - accuracy: 0.9117 - val_loss: 0.2578 - val_accuracy: 0.8993\n",
      "Epoch 20/100\n",
      "36/36 - 0s - loss: 0.2334 - accuracy: 0.9120 - val_loss: 0.2559 - val_accuracy: 0.8993\n",
      "Epoch 21/100\n",
      "36/36 - 0s - loss: 0.2313 - accuracy: 0.9131 - val_loss: 0.2577 - val_accuracy: 0.8993\n",
      "Epoch 22/100\n",
      "36/36 - 0s - loss: 0.2300 - accuracy: 0.9137 - val_loss: 0.2560 - val_accuracy: 0.9016\n"
     ]
    },
    {
     "data": {
      "text/plain": [
       "<tensorflow.python.keras.callbacks.History at 0x7fd78432dd60>"
      ]
     },
     "execution_count": 24,
     "metadata": {},
     "output_type": "execute_result"
    }
   ],
   "source": [
    "input_size = 10\n",
    "output_size = 2\n",
    "hidden_layer_size = 50\n",
    "\n",
    "model = tf.keras.Sequential([\n",
    "                            tf.keras.layers.Dense(hidden_layer_size, activation = 'relu'),\n",
    "                            tf.keras.layers.Dense(hidden_layer_size, activation = 'relu'),\n",
    "                            tf.keras.layers.Dense(output_size , activation = 'softmax')                      \n",
    "\n",
    "                            ])\n",
    "\n",
    "model.compile(optimizer='adam' , loss= 'sparse_categorical_crossentropy' , metrics=['accuracy'])\n",
    "\n",
    "batch_size = 100\n",
    "\n",
    "max_epochs = 100\n",
    "\n",
    "early_stopping = tf.keras.callbacks.EarlyStopping(patience=2)\n",
    "\n",
    "model.fit(train_inputs,\n",
    "         train_targets,\n",
    "         batch_size = batch_size,\n",
    "         epochs = max_epochs,\n",
    "         callbacks = [early_stopping],\n",
    "         validation_data = (validation_inputs , validation_targets),\n",
    "         verbose=2\n",
    "         )"
   ]
  },
  {
   "cell_type": "markdown",
   "metadata": {},
   "source": [
    "# Testing the mdoel "
   ]
  },
  {
   "cell_type": "code",
   "execution_count": 35,
   "metadata": {},
   "outputs": [
    {
     "name": "stdout",
     "output_type": "stream",
     "text": [
      "14/14 [==============================] - 0s 772us/step - loss: 0.2396 - accuracy: 0.9085\n"
     ]
    }
   ],
   "source": [
    "test_loss, test_accuaracy = model.evaluate(test_inputs, test_outputs)"
   ]
  },
  {
   "cell_type": "code",
   "execution_count": 28,
   "metadata": {},
   "outputs": [
    {
     "data": {
      "text/plain": [
       "(448, 10)"
      ]
     },
     "execution_count": 28,
     "metadata": {},
     "output_type": "execute_result"
    }
   ],
   "source": [
    "test_inputs.shape"
   ]
  },
  {
   "cell_type": "code",
   "execution_count": 37,
   "metadata": {},
   "outputs": [
    {
     "data": {
      "text/plain": [
       "array([ 1.18956512,  0.36398846,  0.20727535, -0.07040064, -0.44877204,\n",
       "       -0.01125564,  0.48070211,  0.35054755, -0.20536617,  0.78177448])"
      ]
     },
     "execution_count": 37,
     "metadata": {},
     "output_type": "execute_result"
    }
   ],
   "source": [
    "train_inputs[0]"
   ]
  },
  {
   "cell_type": "code",
   "execution_count": null,
   "metadata": {},
   "outputs": [],
   "source": []
  }
 ],
 "metadata": {
  "kernelspec": {
   "display_name": "Python 3",
   "language": "python",
   "name": "python3"
  },
  "language_info": {
   "codemirror_mode": {
    "name": "ipython",
    "version": 3
   },
   "file_extension": ".py",
   "mimetype": "text/x-python",
   "name": "python",
   "nbconvert_exporter": "python",
   "pygments_lexer": "ipython3",
   "version": "3.8.2"
  }
 },
 "nbformat": 4,
 "nbformat_minor": 4
}
