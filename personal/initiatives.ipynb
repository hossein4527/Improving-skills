{
 "cells": [
  {
   "cell_type": "code",
   "execution_count": 1,
   "metadata": {},
   "outputs": [],
   "source": [
    "import numpy as np"
   ]
  },
  {
   "cell_type": "code",
   "execution_count": 4,
   "metadata": {},
   "outputs": [],
   "source": [
    "istj = ['si', 'te', 'fi',  'ne']\n",
    "isfj = ['si', 'fe', 'ti', 'ne']\n",
    "infj = ['ni', 'fe', 'ti', 'se']\n",
    "intj = ['ni', 'te', 'fi',  'se']\n",
    "\n",
    "istp = ['ti', 'se', 'ni', 'fe']\n",
    "isfp = ['fi',  'se', 'ni', 'te']\n",
    "infp = ['fi',  'ne', 'si', 'te']\n",
    "intp = ['ti', 'ne', 'si', 'fe']\n",
    "\n",
    "estp = ['se', 'ti', 'fe', 'ni']\n",
    "esfp = ['se', 'fi',  'te', 'ni']\n",
    "enfp = ['ne', 'fi',  'te', 'si']\n",
    "entp = ['ne', 'ti', 'fe', 'si']\n",
    "\n",
    "estj = ['te', 'si', 'ne', 'fi' ]\n",
    "esfj = ['fe', 'si', 'ne', 'ti']\n",
    "enfj = ['fe', 'ni', 'se', 'ti']\n",
    "entj = ['te', 'ni', 'se', 'fi' ]"
   ]
  },
  {
   "cell_type": "code",
   "execution_count": 3,
   "metadata": {},
   "outputs": [],
   "source": [
    "introverted_perceiving = [istj,isfj, intj, infj]\n",
    "introverted_judging = [istp, isfp, intp, infp]\n",
    "\n",
    "extroverted_perceiving = [estp, esfp, entp, enfp]\n",
    "extroverted_judging = [estj, esfj, entj, enfj]\n"
   ]
  },
  {
   "cell_type": "code",
   "execution_count": null,
   "metadata": {},
   "outputs": [],
   "source": []
  }
 ],
 "metadata": {
  "kernelspec": {
   "display_name": "Python 3",
   "language": "python",
   "name": "python3"
  },
  "language_info": {
   "codemirror_mode": {
    "name": "ipython",
    "version": 3
   },
   "file_extension": ".py",
   "mimetype": "text/x-python",
   "name": "python",
   "nbconvert_exporter": "python",
   "pygments_lexer": "ipython3",
   "version": "3.8.5"
  }
 },
 "nbformat": 4,
 "nbformat_minor": 4
}
